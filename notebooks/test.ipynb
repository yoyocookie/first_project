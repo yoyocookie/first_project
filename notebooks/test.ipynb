{
 "cells": [
  {
   "cell_type": "markdown",
   "metadata": {},
   "source": [
    "#EDA"
   ]
  },
  {
   "cell_type": "code",
   "execution_count": 132,
   "metadata": {},
   "outputs": [],
   "source": [
    "import os\n",
    "import numpy as np\n",
    "import pandas as pd\n",
    "from sklearn.preprocessing import StandardScaler\n",
    "from sklearn.cluster import KMeans\n",
    "from sklearn.metrics import silhouette_score\n",
    "import matplotlib.pyplot as plt\n",
    "os.getcwd()\n",
    "\n",
    "pd.set_option('display.max_rows', None)\n",
    "# pd.reset_option('display.max_rows')\n"
   ]
  },
  {
   "cell_type": "code",
   "execution_count": 36,
   "metadata": {},
   "outputs": [],
   "source": [
    "#load data\n",
    "df_age_gender = pd.read_csv('../data/raw/age_gender_bkts.csv')\n",
    "df_countries = pd.read_csv('../data/raw/countries.csv')\n",
    "df_sessions = pd.read_csv('../data/raw/sessions.csv')\n",
    "df_train = pd.read_csv('../data/raw/train_users_2.csv')\n",
    "df_test = pd.read_csv('../data/raw/test_users.csv')"
   ]
  },
  {
   "cell_type": "code",
   "execution_count": 44,
   "metadata": {},
   "outputs": [],
   "source": [
    "df_all = pd.concat((df_train,df_test),axis= 0 ,ignore_index= True)"
   ]
  },
  {
   "cell_type": "code",
   "execution_count": 50,
   "metadata": {},
   "outputs": [
    {
     "name": "stdout",
     "output_type": "stream",
     "text": [
      "<class 'pandas.core.frame.DataFrame'>\n",
      "RangeIndex: 275547 entries, 0 to 275546\n",
      "Data columns (total 16 columns):\n",
      " #   Column                   Non-Null Count   Dtype  \n",
      "---  ------                   --------------   -----  \n",
      " 0   id                       275547 non-null  object \n",
      " 1   date_account_created     275547 non-null  object \n",
      " 2   timestamp_first_active   275547 non-null  int64  \n",
      " 3   date_first_booking       88908 non-null   object \n",
      " 4   gender                   275547 non-null  object \n",
      " 5   age                      158681 non-null  float64\n",
      " 6   signup_method            275547 non-null  object \n",
      " 7   signup_flow              275547 non-null  int64  \n",
      " 8   language                 275547 non-null  object \n",
      " 9   affiliate_channel        275547 non-null  object \n",
      " 10  affiliate_provider       275547 non-null  object \n",
      " 11  first_affiliate_tracked  269462 non-null  object \n",
      " 12  signup_app               275547 non-null  object \n",
      " 13  first_device_type        275547 non-null  object \n",
      " 14  first_browser            275547 non-null  object \n",
      " 15  country_destination      213451 non-null  object \n",
      "dtypes: float64(1), int64(2), object(13)\n",
      "memory usage: 33.6+ MB\n"
     ]
    }
   ],
   "source": [
    "df_all.info()"
   ]
  },
  {
   "cell_type": "code",
   "execution_count": 52,
   "metadata": {},
   "outputs": [
    {
     "name": "stdout",
     "output_type": "stream",
     "text": [
      "date_first_booking has 186639 null values\n",
      "\n",
      "age has 116866 null values\n",
      "\n",
      "first_affiliate_tracked has 6085 null values\n",
      "\n",
      "country_destination has 62096 null values\n",
      "\n"
     ]
    }
   ],
   "source": [
    "for i in df_all.columns:\n",
    "    ab = df_all[i].isnull().sum()\n",
    "    if ab != 0:\n",
    "        print(f'{i} has {ab} null values\\n')"
   ]
  },
  {
   "cell_type": "code",
   "execution_count": 62,
   "metadata": {},
   "outputs": [],
   "source": [
    "#刪除date_first_booking，country_destination 欄位因為他們在test資料中都沒有\n",
    "df_all = df_all.drop(['date_first_booking','country_destination'],axis= 1)\n"
   ]
  },
  {
   "cell_type": "code",
   "execution_count": 64,
   "metadata": {},
   "outputs": [
    {
     "name": "stdout",
     "output_type": "stream",
     "text": [
      "age has 116866 null values\n",
      "\n",
      "first_affiliate_tracked has 6085 null values\n",
      "\n"
     ]
    }
   ],
   "source": [
    "# age 和 first_affiliate_tracked 需處理缺失值\n",
    "for i in df_all.columns:\n",
    "    ab = df_all[i].isnull().sum()\n",
    "    if ab != 0:\n",
    "        print(f'{i} has {ab} null values\\n')"
   ]
  },
  {
   "cell_type": "code",
   "execution_count": 65,
   "metadata": {},
   "outputs": [
    {
     "data": {
      "text/html": [
       "<div>\n",
       "<style scoped>\n",
       "    .dataframe tbody tr th:only-of-type {\n",
       "        vertical-align: middle;\n",
       "    }\n",
       "\n",
       "    .dataframe tbody tr th {\n",
       "        vertical-align: top;\n",
       "    }\n",
       "\n",
       "    .dataframe thead th {\n",
       "        text-align: right;\n",
       "    }\n",
       "</style>\n",
       "<table border=\"1\" class=\"dataframe\">\n",
       "  <thead>\n",
       "    <tr style=\"text-align: right;\">\n",
       "      <th></th>\n",
       "      <th>id</th>\n",
       "      <th>date_account_created</th>\n",
       "      <th>timestamp_first_active</th>\n",
       "      <th>gender</th>\n",
       "      <th>age</th>\n",
       "      <th>signup_method</th>\n",
       "      <th>signup_flow</th>\n",
       "      <th>language</th>\n",
       "      <th>affiliate_channel</th>\n",
       "      <th>affiliate_provider</th>\n",
       "      <th>first_affiliate_tracked</th>\n",
       "      <th>signup_app</th>\n",
       "      <th>first_device_type</th>\n",
       "      <th>first_browser</th>\n",
       "    </tr>\n",
       "  </thead>\n",
       "  <tbody>\n",
       "    <tr>\n",
       "      <th>0</th>\n",
       "      <td>gxn3p5htnn</td>\n",
       "      <td>2010-06-28</td>\n",
       "      <td>20090319043255</td>\n",
       "      <td>-unknown-</td>\n",
       "      <td>NaN</td>\n",
       "      <td>facebook</td>\n",
       "      <td>0</td>\n",
       "      <td>en</td>\n",
       "      <td>direct</td>\n",
       "      <td>direct</td>\n",
       "      <td>untracked</td>\n",
       "      <td>Web</td>\n",
       "      <td>Mac Desktop</td>\n",
       "      <td>Chrome</td>\n",
       "    </tr>\n",
       "    <tr>\n",
       "      <th>1</th>\n",
       "      <td>820tgsjxq7</td>\n",
       "      <td>2011-05-25</td>\n",
       "      <td>20090523174809</td>\n",
       "      <td>MALE</td>\n",
       "      <td>38.0</td>\n",
       "      <td>facebook</td>\n",
       "      <td>0</td>\n",
       "      <td>en</td>\n",
       "      <td>seo</td>\n",
       "      <td>google</td>\n",
       "      <td>untracked</td>\n",
       "      <td>Web</td>\n",
       "      <td>Mac Desktop</td>\n",
       "      <td>Chrome</td>\n",
       "    </tr>\n",
       "    <tr>\n",
       "      <th>2</th>\n",
       "      <td>4ft3gnwmtx</td>\n",
       "      <td>2010-09-28</td>\n",
       "      <td>20090609231247</td>\n",
       "      <td>FEMALE</td>\n",
       "      <td>56.0</td>\n",
       "      <td>basic</td>\n",
       "      <td>3</td>\n",
       "      <td>en</td>\n",
       "      <td>direct</td>\n",
       "      <td>direct</td>\n",
       "      <td>untracked</td>\n",
       "      <td>Web</td>\n",
       "      <td>Windows Desktop</td>\n",
       "      <td>IE</td>\n",
       "    </tr>\n",
       "    <tr>\n",
       "      <th>3</th>\n",
       "      <td>bjjt8pjhuk</td>\n",
       "      <td>2011-12-05</td>\n",
       "      <td>20091031060129</td>\n",
       "      <td>FEMALE</td>\n",
       "      <td>42.0</td>\n",
       "      <td>facebook</td>\n",
       "      <td>0</td>\n",
       "      <td>en</td>\n",
       "      <td>direct</td>\n",
       "      <td>direct</td>\n",
       "      <td>untracked</td>\n",
       "      <td>Web</td>\n",
       "      <td>Mac Desktop</td>\n",
       "      <td>Firefox</td>\n",
       "    </tr>\n",
       "    <tr>\n",
       "      <th>4</th>\n",
       "      <td>87mebub9p4</td>\n",
       "      <td>2010-09-14</td>\n",
       "      <td>20091208061105</td>\n",
       "      <td>-unknown-</td>\n",
       "      <td>41.0</td>\n",
       "      <td>basic</td>\n",
       "      <td>0</td>\n",
       "      <td>en</td>\n",
       "      <td>direct</td>\n",
       "      <td>direct</td>\n",
       "      <td>untracked</td>\n",
       "      <td>Web</td>\n",
       "      <td>Mac Desktop</td>\n",
       "      <td>Chrome</td>\n",
       "    </tr>\n",
       "  </tbody>\n",
       "</table>\n",
       "</div>"
      ],
      "text/plain": [
       "           id date_account_created  timestamp_first_active     gender   age  \\\n",
       "0  gxn3p5htnn           2010-06-28          20090319043255  -unknown-   NaN   \n",
       "1  820tgsjxq7           2011-05-25          20090523174809       MALE  38.0   \n",
       "2  4ft3gnwmtx           2010-09-28          20090609231247     FEMALE  56.0   \n",
       "3  bjjt8pjhuk           2011-12-05          20091031060129     FEMALE  42.0   \n",
       "4  87mebub9p4           2010-09-14          20091208061105  -unknown-  41.0   \n",
       "\n",
       "  signup_method  signup_flow language affiliate_channel affiliate_provider  \\\n",
       "0      facebook            0       en            direct             direct   \n",
       "1      facebook            0       en               seo             google   \n",
       "2         basic            3       en            direct             direct   \n",
       "3      facebook            0       en            direct             direct   \n",
       "4         basic            0       en            direct             direct   \n",
       "\n",
       "  first_affiliate_tracked signup_app first_device_type first_browser  \n",
       "0               untracked        Web       Mac Desktop        Chrome  \n",
       "1               untracked        Web       Mac Desktop        Chrome  \n",
       "2               untracked        Web   Windows Desktop            IE  \n",
       "3               untracked        Web       Mac Desktop       Firefox  \n",
       "4               untracked        Web       Mac Desktop        Chrome  "
      ]
     },
     "execution_count": 65,
     "metadata": {},
     "output_type": "execute_result"
    }
   ],
   "source": [
    "df_all.head()"
   ]
  },
  {
   "cell_type": "code",
   "execution_count": 91,
   "metadata": {},
   "outputs": [
    {
     "data": {
      "text/plain": [
       "gender\n",
       "-unknown-    95688\n",
       "FEMALE       63041\n",
       "MALE         54440\n",
       "OTHER          282\n",
       "Name: count, dtype: int64"
      ]
     },
     "execution_count": 91,
     "metadata": {},
     "output_type": "execute_result"
    }
   ],
   "source": [
    "df_train.gender.value_counts()"
   ]
  },
  {
   "cell_type": "code",
   "execution_count": 87,
   "metadata": {},
   "outputs": [
    {
     "name": "stdout",
     "output_type": "stream",
     "text": [
      "gender\n",
      "-unknown-    129480\n",
      "FEMALE        77524\n",
      "MALE          68209\n",
      "OTHER           334\n",
      "Name: count, dtype: int64\n",
      "age\n",
      "30.0      7712\n",
      "28.0      7687\n",
      "29.0      7647\n",
      "31.0      7540\n",
      "27.0      7462\n",
      "          ... \n",
      "1953.0       1\n",
      "132.0        1\n",
      "150.0        1\n",
      "112.0        1\n",
      "1941.0       1\n",
      "Name: count, Length: 145, dtype: int64\n",
      "signup_method\n",
      "basic       198222\n",
      "facebook     74864\n",
      "google        2438\n",
      "weibo           23\n",
      "Name: count, dtype: int64\n",
      "signup_flow\n",
      "0     206092\n",
      "25     29834\n",
      "12     11244\n",
      "3       8822\n",
      "2       6881\n",
      "23      6408\n",
      "24      4328\n",
      "1       1047\n",
      "8        315\n",
      "6        301\n",
      "21       197\n",
      "5         36\n",
      "20        14\n",
      "16        11\n",
      "15        10\n",
      "14         4\n",
      "10         2\n",
      "4          1\n",
      "Name: count, dtype: int64\n",
      "language\n",
      "en           265538\n",
      "zh             2634\n",
      "fr             1508\n",
      "es             1174\n",
      "ko             1116\n",
      "de              977\n",
      "it              633\n",
      "ru              508\n",
      "ja              345\n",
      "pt              322\n",
      "sv              176\n",
      "nl              134\n",
      "tr               92\n",
      "pl               75\n",
      "da               75\n",
      "no               51\n",
      "cs               49\n",
      "el               30\n",
      "th               28\n",
      "hu               25\n",
      "id               23\n",
      "fi               20\n",
      "ca                6\n",
      "is                5\n",
      "hr                2\n",
      "-unknown-         1\n",
      "Name: count, dtype: int64\n",
      "affiliate_channel\n",
      "direct           181571\n",
      "sem-brand         36439\n",
      "sem-non-brand     20075\n",
      "seo               14362\n",
      "other              9547\n",
      "api                8167\n",
      "content            4118\n",
      "remarketing        1268\n",
      "Name: count, dtype: int64\n",
      "affiliate_provider\n",
      "direct                 181270\n",
      "google                  65956\n",
      "other                   13036\n",
      "facebook                 3996\n",
      "bing                     3719\n",
      "craigslist               3475\n",
      "padmapper                 836\n",
      "vast                      830\n",
      "yahoo                     653\n",
      "facebook-open-graph       566\n",
      "gsp                       455\n",
      "meetup                    358\n",
      "email-marketing           270\n",
      "naver                      66\n",
      "baidu                      32\n",
      "yandex                     18\n",
      "wayn                        8\n",
      "daum                        3\n",
      "Name: count, dtype: int64\n",
      "first_affiliate_tracked\n",
      "untracked        143181\n",
      "linked            62064\n",
      "omg               54859\n",
      "tracked-other      6655\n",
      "product            2353\n",
      "marketing           281\n",
      "local ops            69\n",
      "Name: count, dtype: int64\n",
      "signup_app\n",
      "Web        219918\n",
      "iOS         34593\n",
      "Android     10519\n",
      "Moweb       10517\n",
      "Name: count, dtype: int64\n",
      "first_device_type\n",
      "Mac Desktop           106328\n",
      "Windows Desktop        86948\n",
      "iPhone                 39814\n",
      "iPad                   18036\n",
      "Other/Unknown          11167\n",
      "Android Phone           9458\n",
      "Android Tablet          2098\n",
      "Desktop (Other)         1507\n",
      "SmartPhone (Other)       191\n",
      "Name: count, dtype: int64\n",
      "first_browser\n",
      "Chrome                  78671\n",
      "Safari                  53302\n",
      "-unknown-               44394\n",
      "Firefox                 38665\n",
      "Mobile Safari           29636\n",
      "IE                      24744\n",
      "Chrome Mobile            3186\n",
      "Android Browser          1577\n",
      "AOL Explorer              254\n",
      "Opera                     228\n",
      "Silk                      172\n",
      "IE Mobile                 118\n",
      "BlackBerry Browser         89\n",
      "Chromium                   83\n",
      "Mobile Firefox             64\n",
      "Maxthon                    60\n",
      "Apple Mail                 45\n",
      "Sogou Explorer             43\n",
      "SiteKiosk                  27\n",
      "Iron                       24\n",
      "RockMelt                   24\n",
      "IceWeasel                  14\n",
      "Yandex.Browser             14\n",
      "Pale Moon                  13\n",
      "SeaMonkey                  12\n",
      "CometBird                  12\n",
      "Camino                      9\n",
      "TenFourFox                  8\n",
      "Opera Mini                  8\n",
      "wOSBrowser                  7\n",
      "CoolNovo                    6\n",
      "Opera Mobile                4\n",
      "Avant Browser               4\n",
      "Mozilla                     3\n",
      "TheWorld Browser            2\n",
      "SlimBrowser                 2\n",
      "Flock                       2\n",
      "Comodo Dragon               2\n",
      "OmniWeb                     2\n",
      "Crazy Browser               2\n",
      "NetNewsWire                 1\n",
      "PS Vita browser             1\n",
      "Google Earth                1\n",
      "Conkeror                    1\n",
      "Kindle Browser              1\n",
      "Palm Pre web browser        1\n",
      "Arora                       1\n",
      "Epic                        1\n",
      "Stainless                   1\n",
      "Googlebot                   1\n",
      "Outlook 2007                1\n",
      "IceDragon                   1\n",
      "IBrowse                     1\n",
      "Nintendo Browser            1\n",
      "UC Browser                  1\n",
      "Name: count, dtype: int64\n"
     ]
    }
   ],
   "source": [
    "columns = df_all.columns.tolist()\n",
    "columns = [col for col in columns if col not in ['id', 'date_account_created', 'timestamp_first_active']]\n",
    "\n",
    "for i in columns:\n",
    "    print(df_all[i].value_counts())\n"
   ]
  },
  {
   "cell_type": "code",
   "execution_count": 92,
   "metadata": {},
   "outputs": [],
   "source": [
    "#轉換成類別變數\n",
    "categorical_features = [\n",
    "    'affiliate_channel',\n",
    "    'affiliate_provider',\n",
    "    'first_affiliate_tracked',\n",
    "    'first_browser',\n",
    "    'first_device_type',\n",
    "    'gender',\n",
    "    'language',\n",
    "    'signup_app',\n",
    "    'signup_method',\n",
    "    'signup_flow'\n",
    "]\n",
    "\n",
    "for categorical_feature in categorical_features:\n",
    "    df_all[categorical_feature] = df_all[categorical_feature].astype('category')\n"
   ]
  },
  {
   "cell_type": "markdown",
   "metadata": {},
   "source": [
    "### data need processing\n",
    "1. miss value\n",
    "    - age\n",
    "    - first_affiliate_tracked\n",
    "\n",
    "2. age 有 outliner, K-means 偵測\n",
    "\n",
    "3. language 只有test資料有一筆 unknown \n"
   ]
  },
  {
   "cell_type": "code",
   "execution_count": 109,
   "metadata": {},
   "outputs": [],
   "source": [
    "age_mode = df_all.age.mode()[0]\n",
    "df_all['age'].fillna(age_mode,inplace=True)"
   ]
  },
  {
   "cell_type": "code",
   "execution_count": 112,
   "metadata": {},
   "outputs": [],
   "source": [
    "# age 異常檢測\n",
    "\n",
    "#標準化\n",
    "scalar = StandardScaler()\n",
    "df_all['age_scaled'] = scalar.fit_transform(df_all[['age']])\n"
   ]
  },
  {
   "cell_type": "code",
   "execution_count": 115,
   "metadata": {},
   "outputs": [
    {
     "data": {
      "image/png": "[encoded data removed]",
      "text/plain": [
       "<Figure size 640x480 with 1 Axes>"
      ]
     },
     "metadata": {},
     "output_type": "display_data"
    }
   ],
   "source": [
    "#elbow method 找分群數\n",
    "sse = []\n",
    "for k in range(1, 11):\n",
    "    kmeans = KMeans(n_clusters=k, random_state=42)\n",
    "    kmeans.fit(df_all[['age_scaled']])\n",
    "    sse.append(kmeans.inertia_)\n",
    "\n",
    "plt.plot(range(1, 11), sse, marker='o')\n",
    "plt.xlabel('Number of clusters (K)')\n",
    "plt.ylabel('SSE')\n",
    "plt.title('Elbow Method')\n",
    "plt.show()\n"
   ]
  },
  {
   "cell_type": "code",
   "execution_count": 133,
   "metadata": {},
   "outputs": [],
   "source": [
    "# 分成 2 群\n",
    "kmeans = KMeans(n_clusters=2, random_state=42)\n",
    "df_all['age_cluster'] = kmeans.fit_predict(df_all[['age_scaled']])\n"
   ]
  },
  {
   "cell_type": "code",
   "execution_count": 135,
   "metadata": {},
   "outputs": [],
   "source": [
    "#異常年齡處理為眾數\n",
    "centroids = kmeans.cluster_centers_\n",
    "df_all['distance_to_centroid'] = np.linalg.norm(df_all[['age_scaled']].values - centroids[df_all['age_cluster']], axis=1)\n",
    "threshold = np.percentile(df_all['distance_to_centroid'], 99)\n",
    "df_all.loc[df_all['distance_to_centroid'] > threshold, 'age'] = 30"
   ]
  },
  {
   "cell_type": "markdown",
   "metadata": {},
   "source": [
    "# Visualize"
   ]
  }
 ],
 "metadata": {
  "kernelspec": {
   "display_name": "base",
   "language": "python",
   "name": "python3"
  },
  "language_info": {
   "codemirror_mode": {
    "name": "ipython",
    "version": 3
   },
   "file_extension": ".py",
   "mimetype": "text/x-python",
   "name": "python",
   "nbconvert_exporter": "python",
   "pygments_lexer": "ipython3",
   "version": "3.12.4"
  }
 },
 "nbformat": 4,
 "nbformat_minor": 2
}
